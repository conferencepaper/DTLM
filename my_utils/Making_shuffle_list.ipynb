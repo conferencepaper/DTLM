{
 "cells": [
  {
   "cell_type": "code",
   "execution_count": 1,
   "id": "5b7ebbdf-78a1-4697-bb87-f420c22dcee1",
   "metadata": {},
   "outputs": [
    {
     "name": "stdout",
     "output_type": "stream",
     "text": [
      "Shuffled List: ['x4', 'y1', 'x1', 'x3', 'y1', 'x2', 'x3', 'x1', 'x4', 'x2', 'y2']\n",
      "Shuffled Indices: [3, 9, 0, 2, 8, 5, 6, 4, 7, 1, 10]\n"
     ]
    }
   ],
   "source": [
    "import random\n",
    "\n",
    "def check_pattern(lst):\n",
    "    n = len(lst)\n",
    "    \n",
    "    # Loop through the list to check for consecutive patterns\n",
    "    for i in range(n):\n",
    "        for length in range(1, (n - i) // 2 + 1):  # Length of the potential repeated sequence\n",
    "            # Check if the subsequence of this length is repeated consecutively\n",
    "            if lst[i:i+length] == lst[i+length:i+2*length]:\n",
    "                return True  # A pattern is found\n",
    "\n",
    "    return False  # No consecutive patterns found\n",
    "\n",
    "def shuffle_without_pattern(lst):\n",
    "    original_indices = list(range(len(lst)))  # Create a list of indices corresponding to the original list\n",
    "    while True:\n",
    "        combined = list(zip(lst, original_indices))  # Combine the list elements with their indices\n",
    "        random.shuffle(combined)  # Shuffle the combined list\n",
    "        lst_shuffled, indices_shuffled = zip(*combined)  # Unzip to get shuffled list and corresponding indices\n",
    "        \n",
    "        if not check_pattern(lst_shuffled):  # Check if there are no patterns in the shuffled list\n",
    "            break  # If no pattern, we are done\n",
    "\n",
    "    return list(lst_shuffled), list(indices_shuffled)\n",
    "def restore_original_list(shuffled_lst, shuffled_indices):\n",
    "    # Initialize a list of the same length as the original list\n",
    "    original_lst = [None] * len(shuffled_lst)\n",
    "    \n",
    "    # Place the shuffled elements back into their original positions\n",
    "    for i, index in enumerate(shuffled_indices):\n",
    "        original_lst[index] = shuffled_lst[i]\n",
    "    \n",
    "    return original_lst\n",
    "def restore_original_list(shuffled_lst, shuffled_indices):\n",
    "    # Initialize a list of the same length as the original list\n",
    "    original_lst = [None] * len(shuffled_lst)\n",
    "    \n",
    "    # Place the shuffled elements back into their original positions\n",
    "    for i, index in enumerate(shuffled_indices):\n",
    "        original_lst[index] = shuffled_lst[i]\n",
    "    \n",
    "    return original_lst\n",
    "\n",
    "\n",
    "# Example usage\n",
    "lst = ['x1', 'x2', 'x3', 'x4', 'x1', 'x2', 'x3', 'x4', 'y1', 'y1', 'y2']\n",
    "shuffled_lst, shuffled_indices = shuffle_without_pattern(lst)\n",
    "print(\"Shuffled List:\", shuffled_lst)\n",
    "print(\"Shuffled Indices:\", shuffled_indices)\n"
   ]
  },
  {
   "cell_type": "code",
   "execution_count": 2,
   "id": "0418f391-0833-4ce0-86ca-740384d91216",
   "metadata": {},
   "outputs": [],
   "source": [
    "def restore_original_list(shuffled_lst, shuffled_indices):\n",
    "    # Initialize a list of the same length as the original list\n",
    "    original_lst = [None] * len(shuffled_lst)\n",
    "    \n",
    "    # Place the shuffled elements back into their original positions\n",
    "    for i, index in enumerate(shuffled_indices):\n",
    "        original_lst[index] = shuffled_lst[i]\n",
    "    \n",
    "    return original_lst\n"
   ]
  },
  {
   "cell_type": "code",
   "execution_count": 4,
   "id": "36e6c79d-3dce-4e4f-91d7-85e2cfa49f14",
   "metadata": {},
   "outputs": [
    {
     "name": "stdout",
     "output_type": "stream",
     "text": [
      "Transformed List: ['X4', 'Y1', 'X1', 'X3', 'Y1', 'X2', 'X3', 'X1', 'X4', 'X2', 'Y2']\n",
      "Restored List: ['X1', 'X2', 'X3', 'X4', 'X1', 'X2', 'X3', 'X4', 'Y1', 'Y1', 'Y2']\n"
     ]
    }
   ],
   "source": [
    "# Example transformation (convert each element to uppercase)\n",
    "transformed_lst = [x.upper() for x in shuffled_lst]\n",
    "\n",
    "# Restore the original list order after the transformation\n",
    "restored_lst = restore_original_list(transformed_lst, shuffled_indices)\n",
    "print(\"Transformed List:\" , transformed_lst)\n",
    "print(\"Restored List:\", restored_lst)"
   ]
  },
  {
   "cell_type": "code",
   "execution_count": null,
   "id": "4e46913b-e323-481d-b7ab-1740b46c3a81",
   "metadata": {},
   "outputs": [],
   "source": []
  }
 ],
 "metadata": {
  "kernelspec": {
   "display_name": "Python 3 (ipykernel)",
   "language": "python",
   "name": "python3"
  },
  "language_info": {
   "codemirror_mode": {
    "name": "ipython",
    "version": 3
   },
   "file_extension": ".py",
   "mimetype": "text/x-python",
   "name": "python",
   "nbconvert_exporter": "python",
   "pygments_lexer": "ipython3",
   "version": "3.12.4"
  }
 },
 "nbformat": 4,
 "nbformat_minor": 5
}
