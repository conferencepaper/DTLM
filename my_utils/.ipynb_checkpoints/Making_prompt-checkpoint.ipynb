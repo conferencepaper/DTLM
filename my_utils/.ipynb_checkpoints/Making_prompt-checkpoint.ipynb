{
 "cells": [
  {
   "cell_type": "code",
   "execution_count": 3,
   "id": "b7b6dd01-1f99-42cf-8a40-23f413033460",
   "metadata": {},
   "outputs": [
    {
     "name": "stdout",
     "output_type": "stream",
     "text": [
      "\n",
      "You are a direct data transformation tool. \n",
      "Given a list of values in different data formats and a target format, the objective is to transform individual values to align with the new format.\n",
      "The model should transform each provided value with 100% accuracy. If the model is unsure about any transformation, it should return the original value. The number of transformed\n",
      "values in the output should match the number of input values.\n",
      "    \n",
      "    Description of the transformation: Transform lowercase letters to uppercase.\n",
      "\n",
      "Inputs: ['x', 'y', 'z']\n",
      "Output: ['X', 'Y', 'Z']\n",
      "\n",
      "You are a direct data transformation tool. \n",
      "Given a list of values in different data formats and a target format, the objective is to transform individual values to align with the new format.\n",
      "The model should transform each provided value with 100% accuracy. If the model is unsure about any transformation, it should return the original value. The number of transformed\n",
      "values in the output should match the number of input values.\n",
      "    \n",
      "    Description of the transformation: Transform lowercase letters to uppercase.\n",
      "\n",
      "- Input: x -> Output: X\n",
      "- Input: y -> Output: Y\n",
      "- Input: z -> Output: Z\n"
     ]
    }
   ],
   "source": [
    "def create_prompt(description, input_list, output_list, input_output_structure=\"default\"):\n",
    "    # Template for the prompt\n",
    "    prompt_template = \"\"\"\n",
    "You are a direct data transformation tool. \n",
    "Given a list of values in different data formats and a target format, \n",
    "the objective is to transform individual values to align with the new format.\n",
    "The model should transform each provided value with 100% accuracy. \n",
    "If the model is unsure about any transformation, it should return the original value. The number of transformed\n",
    "values in the output should match the number of input values.\n",
    "    Description of the transformation: {description}\n",
    "\"\"\"\n",
    "\n",
    "    # Default structure for input-output\n",
    "    if input_output_structure == \"default\":\n",
    "        input_output_examples = f\"Inputs: {input_list}\\nOutput: {output_list}\"\n",
    "\n",
    "    # One input-output pair per line\n",
    "    elif input_output_structure == \"one\":\n",
    "        input_output_examples = \"\"\n",
    "        for i, (inp, out) in enumerate(zip(input_list, output_list)):\n",
    "            input_output_examples += f\"Input: [{inp}]\\nOutput: [{out}]\\n\"\n",
    "\n",
    "    # Compact structure\n",
    "    elif input_output_structure == \"compact\":\n",
    "        input_output_examples = \", \".join([f\"[{inp}] -> [{out}]\" for inp, out in zip(input_list, output_list)])\n",
    "\n",
    "    # Bullet Point structure\n",
    "    elif input_output_structure == \"bullet\":\n",
    "        input_output_examples = \"\\n\".join([f\"- Input: {inp} -> Output: {out}\" for inp, out in zip(input_list, output_list)])\n",
    "\n",
    "    # Step-by-Step structure\n",
    "    elif input_output_structure == \"step_by_step\":\n",
    "        input_output_examples = \"\\n\".join([f\"Step {i+1}: Transform {inp} -> {out}\" for i, (inp, out) in enumerate(zip(input_list, output_list))])\n",
    "\n",
    "    # Combine the prompt template with the description and examples\n",
    "    full_prompt = prompt_template.format(description=description) + \"\\n\" + input_output_examples\n",
    "\n",
    "    return full_prompt\n",
    "\n",
    "# Example Usage\n",
    "description = \"Transform lowercase letters to uppercase.\"\n",
    "input_list = ['x', 'y', 'z']\n",
    "output_list = ['X', 'Y', 'Z']\n",
    "\n",
    "# Generate a prompt with default structure\n",
    "print(create_prompt(description, input_list, output_list, input_output_structure=\"default\"))\n",
    "\n",
    "# Generate a prompt with bullet point structure\n",
    "print(create_prompt(description, input_list, output_list, input_output_structure=\"bullet\"))\n"
   ]
  },
  {
   "cell_type": "code",
   "execution_count": null,
   "id": "9368724f-f419-4cc4-8731-06e52c2aa20d",
   "metadata": {},
   "outputs": [],
   "source": []
  }
 ],
 "metadata": {
  "kernelspec": {
   "display_name": "Python 3 (ipykernel)",
   "language": "python",
   "name": "python3"
  },
  "language_info": {
   "codemirror_mode": {
    "name": "ipython",
    "version": 3
   },
   "file_extension": ".py",
   "mimetype": "text/x-python",
   "name": "python",
   "nbconvert_exporter": "python",
   "pygments_lexer": "ipython3",
   "version": "3.12.4"
  }
 },
 "nbformat": 4,
 "nbformat_minor": 5
}
