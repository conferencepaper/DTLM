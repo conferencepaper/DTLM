{
 "cells": [
  {
   "cell_type": "code",
   "execution_count": null,
   "id": "a1dc4cfd-2393-4890-bfbf-59372cb920f2",
   "metadata": {},
   "outputs": [],
   "source": [
    "#08.10.2024\n",
    "# Function to generate the transformed list using fuzzy matching\n",
    "def get_list(l_input, l_out, similarity_func=get_arg_max_jw):\n",
    "    \"\"\"\n",
    "    Generate a transformed list by matching elements in l_out to the most similar elements in l_input.\n",
    "    \n",
    "    Parameters:\n",
    "    - l_input: Input list.\n",
    "    - l_out: Output list to match against l_input.\n",
    "    - similarity_func: Function to use for similarity calculation (default is Jaro-Winkler).\n",
    "\n",
    "    Returns:\n",
    "    A transformed list 'L' and indices where mismatches occurred.\n",
    "    \"\"\"\n",
    "    n_max=len(l_input)\n",
    "    diff=len(l_input)-len(l_out)\n",
    "    L=[]\n",
    "    out_index=[]\n",
    "    for out in range(len(l_out)):\n",
    "        index=get_index(out,diff,n_max)\n",
    "        l_min_input=[l_input[j] for j in index]\n",
    "        index_max=get_arg_max_jw(l_out[out],l_min_input)+out\n",
    "        if(out==index_max):    #index_max==0\n",
    "            L.append(l_out[index_max])\n",
    "        else:\n",
    "            out_index.append(out)\n",
    "            for j in range(out,index_max):\n",
    "                L.append(l_input[j])\n",
    "            L.append(l_out[index_max-out])\n",
    "            diff=diff-(index_max-out)\n",
    "    return L,out_index"
   ]
  }
 ],
 "metadata": {
  "kernelspec": {
   "display_name": "Python 3 (ipykernel)",
   "language": "python",
   "name": "python3"
  },
  "language_info": {
   "codemirror_mode": {
    "name": "ipython",
    "version": 3
   },
   "file_extension": ".py",
   "mimetype": "text/x-python",
   "name": "python",
   "nbconvert_exporter": "python",
   "pygments_lexer": "ipython3",
   "version": "3.12.4"
  }
 },
 "nbformat": 4,
 "nbformat_minor": 5
}
