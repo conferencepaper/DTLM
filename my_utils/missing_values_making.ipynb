{
 "cells": [
  {
   "cell_type": "code",
   "execution_count": 43,
   "id": "8026ba43-858b-4888-9cad-1d93cfe9dcbc",
   "metadata": {},
   "outputs": [],
   "source": [
    "import jellyfish\n",
    "from collections import Counter\n",
    "from fuzzywuzzy import fuzz\n",
    "\n",
    "# Function to get the index range considering bounds\n",
    "def get_index(i, diff, n_max):\n",
    "    \"\"\"\n",
    "    Get index range with a given difference and maximum limit.\n",
    "\n",
    "    Parameters:\n",
    "    - i: Current index.\n",
    "    - diff: Difference to apply to the index.\n",
    "    - n_max: Maximum length (upper bound).\n",
    "\n",
    "    Returns:\n",
    "    A list of indices within the calculated range.\n",
    "    \"\"\"\n",
    "    return [j for j in range(i, min(i + diff + 1, n_max))]\n",
    "\n",
    "# Function to get the index of the maximum similarity score using Jaro-Winkler\n",
    "def get_arg_max_jw(out, l_min_input):\n",
    "    \"\"\"\n",
    "    Get the index of the element in l_min_input that has the maximum \n",
    "    Jaro-Winkler similarity score to the 'out' string.\n",
    "\n",
    "    Parameters:\n",
    "    - out: Target string.\n",
    "    - l_min_input: List of strings to compare to the target.\n",
    "\n",
    "    Returns:\n",
    "    The index of the element in l_min_input with the highest similarity.\n",
    "    \"\"\"\n",
    "    similarities = [jellyfish.jaro_winkler_similarity(out, i) for i in l_min_input]\n",
    "    return similarities.index(max(similarities))\n",
    "\n",
    "# Function to get the index of the maximum similarity score using FuzzyWuzzy\n",
    "def get_arg_max_fuzz(out, l_min_input):\n",
    "    \"\"\"\n",
    "    Get the index of the element in l_min_input that has the maximum \n",
    "    FuzzyWuzzy ratio to the 'out' string.\n",
    "\n",
    "    Parameters:\n",
    "    - out: Target string.\n",
    "    - l_min_input: List of strings to compare to the target.\n",
    "\n",
    "    Returns:\n",
    "    The index of the element in l_min_input with the highest similarity.\n",
    "    \"\"\"\n",
    "    ratios = [fuzz.ratio(out, i) for i in l_min_input]\n",
    "    return ratios.index(max(ratios))\n",
    "\n",
    "# Function to find the most frequent list (mode) from a list of lists\n",
    "def most_frequent_list(all_l):\n",
    "    \"\"\"\n",
    "    Find the most frequent list in a list of lists.\n",
    "\n",
    "    Parameters:\n",
    "    - all_l: List of lists.\n",
    "\n",
    "    Returns:\n",
    "    The most frequent list and its count.\n",
    "    \"\"\"\n",
    "    my_list_tuples = [tuple(sublist) for sublist in all_l]  # Convert lists to tuples for hashing\n",
    "    counter = Counter(my_list_tuples)\n",
    "    most_common_element_tuple, count = counter.most_common(1)[0]  # Get most common element\n",
    "    return list(most_common_element_tuple), count  # Convert tuple back to list\n",
    "\n",
    "# Main function to process input and find the most common transformation\n",
    "def most_common_getlist(l_input, l_out, similarity_func=get_arg_max_jw):\n",
    "    \"\"\"\n",
    "    Process the input and output lists, apply the transformation, and return the most frequent result.\n",
    "    \n",
    "    Parameters:\n",
    "    - l_input: Input list.\n",
    "    - l_out: Output list to transform.\n",
    "    - similarity_func: Function to use for similarity calculation (default is Jaro-Winkler).\n",
    "\n",
    "    Returns:\n",
    "    The most frequent transformed list.\n",
    "    \"\"\"\n",
    "    all_l = []\n",
    "    all_out_index = []\n",
    "\n",
    "    for j in range(len(l_out)):\n",
    "        L, out_index = get_list(l_input[j:], l_out[j:], similarity_func)\n",
    "        all_l.append(l_out[:j] + L)  # Store the combined result\n",
    "        if out_index:\n",
    "            all_out_index.append(out_index[0] + j)\n",
    "\n",
    "    most_common_element, _ = most_frequent_list(all_l)\n",
    "    return most_common_element"
   ]
  },
  {
   "cell_type": "code",
   "execution_count": 45,
   "id": "e97d0484-b903-4bdb-bf47-40c3c9e56f7b",
   "metadata": {},
   "outputs": [
    {
     "data": {
      "text/plain": [
       "['apple', 'banana']"
      ]
     },
     "execution_count": 45,
     "metadata": {},
     "output_type": "execute_result"
    }
   ],
   "source": [
    "most_common_getlist(l_input, l_out)"
   ]
  },
  {
   "cell_type": "code",
   "execution_count": 46,
   "id": "db54c5ce-6869-4b4f-98de-22c4853a080c",
   "metadata": {},
   "outputs": [
    {
     "data": {
      "text/plain": [
       "['apple', 'banana', 'cherry']"
      ]
     },
     "execution_count": 46,
     "metadata": {},
     "output_type": "execute_result"
    }
   ],
   "source": [
    "l_input = [\"apple\", \"banana\", \"cherry\"]\n",
    "l_out = [\"apple\", \"banana\"]\n",
    "most_common_getlist(l_input, l_out)"
   ]
  },
  {
   "cell_type": "code",
   "execution_count": 11,
   "id": "81b97f5d-247b-400f-85aa-7e0018f45000",
   "metadata": {},
   "outputs": [
    {
     "data": {
      "text/plain": [
       "['apple', 'banana']"
      ]
     },
     "execution_count": 11,
     "metadata": {},
     "output_type": "execute_result"
    }
   ],
   "source": [
    "most_common_getlist(l_input,l_out)"
   ]
  },
  {
   "cell_type": "code",
   "execution_count": null,
   "id": "44f752fb-cda5-43d1-8083-59ddc26bd5e1",
   "metadata": {},
   "outputs": [],
   "source": []
  },
  {
   "cell_type": "code",
   "execution_count": 12,
   "id": "8e18612a-0ec0-429a-8a3f-35e6a7897117",
   "metadata": {},
   "outputs": [
    {
     "data": {
      "text/plain": [
       "(['apple', 'banana'], [])"
      ]
     },
     "execution_count": 12,
     "metadata": {},
     "output_type": "execute_result"
    }
   ],
   "source": [
    "get_list(l_input,l_out)"
   ]
  },
  {
   "cell_type": "code",
   "execution_count": 47,
   "id": "0eb1e90c-3fe2-4d49-a770-436f09061c05",
   "metadata": {},
   "outputs": [
    {
     "data": {
      "text/plain": [
       "['apple', 'banana', 'cher', 'date']"
      ]
     },
     "execution_count": 47,
     "metadata": {},
     "output_type": "execute_result"
    }
   ],
   "source": [
    "l_input = [\"apple\", \"banana\", \"cherry\", \"date\"]\n",
    "l_out = [\"banana\", \"cher\"]\n",
    "most_common_getlist(l_input, l_out)"
   ]
  },
  {
   "cell_type": "code",
   "execution_count": 14,
   "id": "e5dca538-0977-4a39-8de8-248221475c5a",
   "metadata": {},
   "outputs": [
    {
     "data": {
      "text/plain": [
       "(['apple', 'cher', 'banana', 'cher'], [0, 1])"
      ]
     },
     "execution_count": 14,
     "metadata": {},
     "output_type": "execute_result"
    }
   ],
   "source": [
    "get_list(l_input,l_out)"
   ]
  },
  {
   "cell_type": "code",
   "execution_count": 48,
   "id": "d696be43-16be-4ca0-9757-2020917b245f",
   "metadata": {},
   "outputs": [
    {
     "data": {
      "text/plain": [
       "['apple', 'banana', 'cher', 'date']"
      ]
     },
     "execution_count": 48,
     "metadata": {},
     "output_type": "execute_result"
    }
   ],
   "source": [
    "most_common_getlist(l_input,l_out)"
   ]
  },
  {
   "cell_type": "code",
   "execution_count": 17,
   "id": "e1b27fd1-d539-4a97-bf0a-6033e06351a1",
   "metadata": {},
   "outputs": [],
   "source": [
    "#Repaired with O1-preview\n",
    "def get_list(l_input, l_out, similarity_func=get_arg_max_jw):\n",
    "    \"\"\"\n",
    "    Generate a transformed list by matching elements in l_out to the most similar elements in l_input.\n",
    "    \n",
    "    Parameters:\n",
    "    - l_input: Input list.\n",
    "    - l_out: Output list to match against l_input.\n",
    "    - similarity_func: Function to use for similarity calculation (default is get_arg_max_jw).\n",
    "    \n",
    "    Returns:\n",
    "    A transformed list 'L' and indices where mismatches occurred.\n",
    "    \"\"\"\n",
    "    n_max = len(l_input)\n",
    "    diff = len(l_input) - len(l_out)\n",
    "    L = []\n",
    "    out_index = []\n",
    "    \n",
    "    for out in range(len(l_out)):\n",
    "        index = get_index(out, diff, n_max)\n",
    "        l_min_input = [l_input[j] for j in index]\n",
    "        \n",
    "        # Use the similarity_func correctly\n",
    "        max_index_in_l_min_input = similarity_func(l_out[out], l_min_input)\n",
    "        \n",
    "        # Map back to the original index in l_input\n",
    "        index_max = index[max_index_in_l_min_input]\n",
    "        \n",
    "        if out == index_max:\n",
    "            L.append(l_out[out])\n",
    "        else:\n",
    "            out_index.append(out)\n",
    "            # Append elements from l_input between positions out and index_max\n",
    "            for j in range(out, index_max):\n",
    "                L.append(l_input[j])\n",
    "            # Append the current element from l_out\n",
    "            L.append(l_out[out])\n",
    "            diff -= (index_max - out)\n",
    "            \n",
    "    return L, out_index\n"
   ]
  },
  {
   "cell_type": "code",
   "execution_count": null,
   "id": "e29f7282-0e0a-47cb-89ed-1855e263ac3d",
   "metadata": {},
   "outputs": [],
   "source": [
    "# Function to get the index range considering bounds\n",
    "def get_index(i, diff, n_max):\n",
    "    \"\"\"\n",
    "    Get index range with a given difference and maximum limit.\n",
    "\n",
    "    Parameters:\n",
    "    - i: Current index.\n",
    "    - diff: Difference to apply to the index.\n",
    "    - n_max: Maximum length (upper bound).\n",
    "\n",
    "    Returns:\n",
    "    A list of indices within the calculated range.\n",
    "    \"\"\"\n",
    "    return [j for j in range(i, min(i + diff + 1, n_max))]"
   ]
  },
  {
   "cell_type": "code",
   "execution_count": 18,
   "id": "c46cfb1d-ec0d-494c-8b9d-472f42dfa0e4",
   "metadata": {},
   "outputs": [
    {
     "data": {
      "text/plain": [
       "(['apple', 'banana', 'banana', 'cher'], [0, 1])"
      ]
     },
     "execution_count": 18,
     "metadata": {},
     "output_type": "execute_result"
    }
   ],
   "source": [
    "get_list(l_input,l_out)"
   ]
  },
  {
   "cell_type": "code",
   "execution_count": 49,
   "id": "2fcb4662-ce85-44ff-bbb0-078f2606409e",
   "metadata": {},
   "outputs": [
    {
     "data": {
      "text/plain": [
       "['apple', 'banana', 'cherry']"
      ]
     },
     "execution_count": 49,
     "metadata": {},
     "output_type": "execute_result"
    }
   ],
   "source": [
    "l_input = [\"apple\", \"banana\", \"cherry\"]\n",
    "l_out = [\"apple\", \"banana\"]\n",
    "get_list(l_input,l_out)\n",
    "most_common_getlist(l_input, l_out)"
   ]
  },
  {
   "cell_type": "code",
   "execution_count": 50,
   "id": "b67de7bc-7c56-4930-bb81-41f324289c91",
   "metadata": {},
   "outputs": [
    {
     "data": {
      "text/plain": [
       "['apple', 'banana', 'cherry']"
      ]
     },
     "execution_count": 50,
     "metadata": {},
     "output_type": "execute_result"
    }
   ],
   "source": [
    "l_input = [\"apple\", \"banana\", \"cherry\"]\n",
    "l_out = [\"apple\", \"banana\"]\n",
    "get_list(l_input,l_out)\n",
    "\n",
    "most_common_getlist(l_input, l_out)"
   ]
  },
  {
   "cell_type": "code",
   "execution_count": 51,
   "id": "ef970000-3eb9-4ae7-b6a7-64cb9ae6b5ca",
   "metadata": {},
   "outputs": [
    {
     "data": {
      "text/plain": [
       "['apple', 'banana', 'cherry']"
      ]
     },
     "execution_count": 51,
     "metadata": {},
     "output_type": "execute_result"
    }
   ],
   "source": [
    "l_input = [\"apple\", \"banana\", \"cherry\"]\n",
    "l_out = [\"apple\", \"banana\"]\n",
    "get_list(l_input,l_out)\n",
    "most_common_getlist(l_input, l_out)"
   ]
  },
  {
   "cell_type": "code",
   "execution_count": 54,
   "id": "8f2aba10-d88d-41d8-90a5-153a54cd8327",
   "metadata": {},
   "outputs": [
    {
     "data": {
      "text/plain": [
       "['apple', 'banan', 'grape', 'orng']"
      ]
     },
     "execution_count": 54,
     "metadata": {},
     "output_type": "execute_result"
    }
   ],
   "source": [
    "l_input = [\"apple\", \"banana\", \"grape\", \"orange\"]\n",
    "l_out = [\"banan\", \"grape\", \"orng\"]\n",
    "get_list(l_input,l_out)\n",
    "most_common_getlist(l_input, l_out)"
   ]
  },
  {
   "cell_type": "code",
   "execution_count": 55,
   "id": "9842fa27-f2ee-4376-9e04-ad7ae8404327",
   "metadata": {},
   "outputs": [
    {
     "data": {
      "text/plain": [
       "['apple', 'banan', 'grape', 'orng']"
      ]
     },
     "execution_count": 55,
     "metadata": {},
     "output_type": "execute_result"
    }
   ],
   "source": [
    "get_index(0,1,4)\n",
    "most_common_getlist(l_input, l_out)"
   ]
  },
  {
   "cell_type": "code",
   "execution_count": 56,
   "id": "f53060ca-f46e-4d3a-a577-92218c305747",
   "metadata": {},
   "outputs": [
    {
     "data": {
      "text/plain": [
       "(['apple', 'banan', 'grape', 'orng'], [0])"
      ]
     },
     "execution_count": 56,
     "metadata": {},
     "output_type": "execute_result"
    }
   ],
   "source": [
    "l_input = [\"apple\", \"banana\", \"grape\", \"orange\"]\n",
    "l_out = [\"banan\", \"grape\", \"orng\"]\n",
    "get_list(l_input,l_out)"
   ]
  },
  {
   "cell_type": "code",
   "execution_count": 57,
   "id": "bc46d432-9bb9-403d-8027-32403e751fd7",
   "metadata": {},
   "outputs": [
    {
     "data": {
      "text/plain": [
       "(['apple', 'banana', 'cherry', 'skander', 'love'], [])"
      ]
     },
     "execution_count": 57,
     "metadata": {},
     "output_type": "execute_result"
    }
   ],
   "source": [
    "l_input = [\"apple\", \"banana\", \"cherry\",\"skander\",\"love\"]\n",
    "l_out = [\"apple\", \"banana\"]\n",
    "get_list(l_input,l_out)"
   ]
  },
  {
   "cell_type": "code",
   "execution_count": 31,
   "id": "1fe09ff6-45c3-4012-8f67-2d997fd38f45",
   "metadata": {},
   "outputs": [],
   "source": [
    "def get_list(l_input, l_out, similarity_func=get_arg_max_fuzz):\n",
    "    n_max = len(l_input)\n",
    "    diff = len(l_input) - len(l_out)\n",
    "    L = []\n",
    "    out_index = []\n",
    "    for out in range(len(l_out)):\n",
    "        index = get_index(out, diff, n_max)\n",
    "        l_min_input = [l_input[j] for j in index]\n",
    "        \n",
    "        # Correctly map the index back to l_input\n",
    "        index_local = similarity_func(l_out[out], l_min_input)\n",
    "        index_max = index[index_local]\n",
    "        \n",
    "        if out == index_max:\n",
    "            L.append(l_out[out])\n",
    "        else:\n",
    "            out_index.append(out)\n",
    "            for j in range(out, index_max):\n",
    "                L.append(l_input[j])\n",
    "            L.append(l_out[out])  # Append the current element from l_out\n",
    "            diff -= (index_max - out)\n",
    "    return L, out_index\n",
    "# Main function to process input and find the most common transformation\n",
    "def most_common_getlist(l_input, l_out, similarity_func=get_arg_max_jw):\n",
    "    \"\"\"\n",
    "    Process the input and output lists, apply the transformation, and return the most frequent result.\n",
    "    \n",
    "    Parameters:\n",
    "    - l_input: Input list.\n",
    "    - l_out: Output list to transform.\n",
    "    - similarity_func: Function to use for similarity calculation (default is Jaro-Winkler).\n",
    "\n",
    "    Returns:\n",
    "    The most frequent transformed list.\n",
    "    \"\"\"\n",
    "    all_l = []\n",
    "    all_out_index = []\n",
    "\n",
    "    for j in range(len(l_out)):\n",
    "        L, out_index = get_list(l_input[j:], l_out[j:], similarity_func)\n",
    "        all_l.append(l_out[:j] + L)  # Store the combined result\n",
    "        if out_index:\n",
    "            all_out_index.append(out_index[0] + j)\n",
    "\n",
    "    most_common_element, _ = most_frequent_list(all_l)\n",
    "    return most_common_element"
   ]
  },
  {
   "cell_type": "code",
   "execution_count": 32,
   "id": "485a5889-ab3f-4ca9-88f3-68273cd42a07",
   "metadata": {},
   "outputs": [
    {
     "data": {
      "text/plain": [
       "(['apple', 'banana'], [])"
      ]
     },
     "execution_count": 32,
     "metadata": {},
     "output_type": "execute_result"
    }
   ],
   "source": [
    "l_input = [\"apple\", \"banana\", \"cherry\"]\n",
    "l_out = [\"apple\", \"banana\"]\n",
    "get_list(l_input,l_out)"
   ]
  },
  {
   "cell_type": "code",
   "execution_count": 33,
   "id": "01acac75-a9c1-467d-8b51-d881a43686e2",
   "metadata": {},
   "outputs": [
    {
     "data": {
      "text/plain": [
       "(['apple', 'banana', 'banana', 'cher'], [0, 1])"
      ]
     },
     "execution_count": 33,
     "metadata": {},
     "output_type": "execute_result"
    }
   ],
   "source": [
    "l_input = [\"apple\", \"banana\", \"cherry\", \"date\"]\n",
    "l_out = [\"banana\", \"cher\"]\n",
    "get_list(l_input,l_out)"
   ]
  },
  {
   "cell_type": "code",
   "execution_count": 34,
   "id": "875b73b7-395c-41a2-9c77-b538cd6808d1",
   "metadata": {},
   "outputs": [
    {
     "data": {
      "text/plain": [
       "[0, 1, 2]"
      ]
     },
     "execution_count": 34,
     "metadata": {},
     "output_type": "execute_result"
    }
   ],
   "source": [
    "get_index(0,2,4)"
   ]
  },
  {
   "cell_type": "code",
   "execution_count": 39,
   "id": "b43a33f1-b649-4080-9bc8-8ddfd5629af5",
   "metadata": {},
   "outputs": [],
   "source": [
    "def get_list(l_input, l_out, similarity_func=get_arg_max_fuzz):\n",
    "    \"\"\"\n",
    "    Generate a transformed list by matching elements in l_out to the most similar elements in l_input.\n",
    "\n",
    "    Parameters:\n",
    "    - l_input: Input list.\n",
    "    - l_out: Output list to match against l_input.\n",
    "    - similarity_func: Function to use for similarity calculation.\n",
    "\n",
    "    Returns:\n",
    "    A transformed list 'L' and indices where mismatches occurred.\n",
    "    \"\"\"\n",
    "    n_max = len(l_input)\n",
    "    diff = len(l_input) - len(l_out)\n",
    "    L = []\n",
    "    out_index = []\n",
    "    in_idx = 0  # Pointer for l_input\n",
    "\n",
    "    for out in range(len(l_out)):\n",
    "        # Adjust index based on current position in l_input\n",
    "        index = get_index(in_idx, diff, n_max)\n",
    "        l_min_input = [l_input[j] for j in index]\n",
    "\n",
    "        # Get the index of the best match in l_min_input\n",
    "        index_local = similarity_func(l_out[out], l_min_input)\n",
    "        index_max = index[index_local]\n",
    "\n",
    "        if in_idx == index_max:\n",
    "            # Direct match, append from l_out\n",
    "            L.append(l_out[out])\n",
    "            in_idx += 1  # Move to next element in l_input\n",
    "        else:\n",
    "            # Mismatch, append elements from l_input up to the match\n",
    "            out_index.append(out)\n",
    "            for j in range(in_idx, index_max):\n",
    "                L.append(l_input[j])\n",
    "            L.append(l_out[out])  # Append the matched element from l_out\n",
    "            diff -= (index_max - in_idx)\n",
    "            in_idx = index_max + 1  # Update in_idx to the position after index_max\n",
    "\n",
    "    # Append any remaining elements from l_input\n",
    "    while in_idx < n_max:\n",
    "        L.append(l_input[in_idx])\n",
    "        in_idx += 1\n",
    "\n",
    "    return L, out_index\n"
   ]
  },
  {
   "cell_type": "code",
   "execution_count": 40,
   "id": "3c39c20a-f53b-45f5-861c-d17f19577af0",
   "metadata": {},
   "outputs": [
    {
     "data": {
      "text/plain": [
       "(['apple', 'banana', 'cher', 'date'], [0])"
      ]
     },
     "execution_count": 40,
     "metadata": {},
     "output_type": "execute_result"
    }
   ],
   "source": [
    "l_input = [\"apple\", \"banana\", \"cherry\", \"date\"]\n",
    "l_out = [\"banana\", \"cher\"]\n",
    "get_list(l_input,l_out)"
   ]
  },
  {
   "cell_type": "code",
   "execution_count": 41,
   "id": "1d384a9f-4101-40a3-a32c-05dc54eea785",
   "metadata": {},
   "outputs": [
    {
     "data": {
      "text/plain": [
       "(['apple', 'banana', 'cherry'], [])"
      ]
     },
     "execution_count": 41,
     "metadata": {},
     "output_type": "execute_result"
    }
   ],
   "source": [
    "l_input = [\"apple\", \"banana\", \"cherry\"]\n",
    "l_out = [\"apple\", \"banana\"]\n",
    "get_list(l_input,l_out)"
   ]
  },
  {
   "cell_type": "code",
   "execution_count": 42,
   "id": "5377e073-f26d-4799-8fdc-12cda721a994",
   "metadata": {},
   "outputs": [
    {
     "data": {
      "text/plain": [
       "(['apple', 'banana'], [])"
      ]
     },
     "execution_count": 42,
     "metadata": {},
     "output_type": "execute_result"
    }
   ],
   "source": [
    "l_input = [\"banana\", \"cherry\"]\n",
    "l_out = [\"apple\", \"banana\"]\n",
    "get_list(l_input,l_out)"
   ]
  },
  {
   "cell_type": "code",
   "execution_count": null,
   "id": "52ac65aa-5ecc-4391-ae0c-745362a9c60a",
   "metadata": {},
   "outputs": [],
   "source": []
  }
 ],
 "metadata": {
  "kernelspec": {
   "display_name": "Python 3 (ipykernel)",
   "language": "python",
   "name": "python3"
  },
  "language_info": {
   "codemirror_mode": {
    "name": "ipython",
    "version": 3
   },
   "file_extension": ".py",
   "mimetype": "text/x-python",
   "name": "python",
   "nbconvert_exporter": "python",
   "pygments_lexer": "ipython3",
   "version": "3.12.4"
  }
 },
 "nbformat": 4,
 "nbformat_minor": 5
}
